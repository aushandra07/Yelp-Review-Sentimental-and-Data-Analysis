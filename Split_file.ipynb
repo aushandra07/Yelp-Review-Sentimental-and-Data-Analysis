{
 "cells": [
  {
   "cell_type": "code",
   "execution_count": 1,
   "id": "2e5a1d1f",
   "metadata": {},
   "outputs": [
    {
     "name": "stdout",
     "output_type": "stream",
     "text": [
      "Total Lines : 6990280, Lines per file : 279611\n",
      "✅ JSON file split successfully into smaller files!\n"
     ]
    }
   ],
   "source": [
    "import json\n",
    "\n",
    "input_file = r\"D:\\Yelp data analysis\\Yelp JSON\\yelp_dataset\\yelp_academic_dataset_review.json\" #5gb data file\n",
    "output_prefix = r\"D:\\Yelp data analysis\\Yelp JSON\\yelp_dataset\\Split files\\split_file_\" #Prefix for split file\n",
    "num_files = 10 #number of split files to be created\n",
    "\n",
    "\n",
    "#Count total lines in the file\n",
    "\n",
    "with open(input_file,\"r\",encoding = \"utf8\") as f:\n",
    "    total_lines = sum(1 for _ in f)\n",
    "    \n",
    "lines_per_file = total_lines//num_files #gives lines per split files\n",
    "\n",
    "print(f\"Total Lines : {total_lines}, Lines per file : {lines_per_file}\")\n",
    "\n",
    "\n",
    "#Splitting file into mulitple smaller files\n",
    "\n",
    "with open(input_file,\"r\",encoding = \"utf8\") as f:\n",
    "    for i in range(num_files):\n",
    "        output_filename = f\"{output_prefix}{i+1}.json\"\n",
    "      \n",
    "        with open(output_filename,\"w\",encoding = \"utf8\") as outfile:\n",
    "            for j in range(lines_per_file):\n",
    "                line = f.readline()\n",
    "                if not line :\n",
    "                    break #Stops if file ends early\n",
    "                outfile.write(line)\n",
    "\n",
    "print(\"✅ JSON file split successfully into smaller files!\")"
   ]
  }
 ],
 "metadata": {
  "kernelspec": {
   "display_name": "Python 3 (ipykernel)",
   "language": "python",
   "name": "python3"
  },
  "language_info": {
   "codemirror_mode": {
    "name": "ipython",
    "version": 3
   },
   "file_extension": ".py",
   "mimetype": "text/x-python",
   "name": "python",
   "nbconvert_exporter": "python",
   "pygments_lexer": "ipython3",
   "version": "3.9.13"
  }
 },
 "nbformat": 4,
 "nbformat_minor": 5
}
